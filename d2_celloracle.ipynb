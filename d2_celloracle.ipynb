{
 "cells": [
  {
   "cell_type": "code",
   "execution_count": 1,
   "metadata": {},
   "outputs": [
    {
     "name": "stderr",
     "output_type": "stream",
     "text": [
      "OMP: Info #276: omp_set_nested routine deprecated, please use omp_set_max_active_levels instead.\n"
     ]
    }
   ],
   "source": [
    "import celloracle as co\n",
    "from celloracle.applications import Pseudotime_calculator\n",
    "from celloracle.applications import Gradient_calculator\n",
    "from celloracle.applications import Oracle_development_module\n",
    "import scanpy as sc\n",
    "\n",
    "import pandas as pd\n",
    "import numpy as np\n",
    "import plotly.express as px\n",
    "\n",
    "import os\n",
    "import pprint \n",
    "import plotly\n",
    "import matplotlib.pyplot as plt \n",
    "\n",
    "%matplotlib inline\n"
   ]
  },
  {
   "cell_type": "code",
   "execution_count": 2,
   "metadata": {},
   "outputs": [
    {
     "name": "stdout",
     "output_type": "stream",
     "text": [
      "1qc.h5ad\n",
      "adj.csv\n",
      "annotated.h5ad\n",
      "annotated_with_cnvs.h5ad\n",
      "annotated_with_cnvs_old.h5ad\n",
      "combined.loom\n",
      "copykat_result_copykat_CNA_raw_results_gene_by_cell.txt\n",
      "copykat_result_copykat_CNA_results.txt\n",
      "copykat_result_copykat_prediction.txt\n",
      "copykat_result_copykat_with_genes_heatmap.pdf\n",
      "\u001b[1m\u001b[36mdeg\u001b[m\u001b[m\n",
      "filtered.loom\n",
      "fin_object.celloracle.oracle\n",
      "for_scpubr_plot.h5ad\n",
      "integrated.h5ad\n",
      "links.celloracle.links\n",
      "\u001b[1m\u001b[36mmodel.model\u001b[m\u001b[m\n",
      "obj.celloracle.oracle\n",
      "reg.csv\n",
      "scenic_out.loom\n",
      "tumor_for_deg.h5ad\n",
      "tumor_only.h5ad\n",
      "tumor_with_OPC_COP.h5ad\n",
      "velocity.h5ad\n"
     ]
    }
   ],
   "source": [
    "data_path = '/Users/jiehoonk/DevHub/mnt/dataset/lgg/output'\n",
    "!ls {data_path}"
   ]
  },
  {
   "cell_type": "code",
   "execution_count": null,
   "metadata": {},
   "outputs": [],
   "source": [
    "# select highly variable genes\n",
    "adata = sc.read_h5ad(os.path.join(data_path, 'annotated_with_cnvs.h5ad'))\n",
    "adata"
   ]
  },
  {
   "cell_type": "code",
   "execution_count": null,
   "metadata": {},
   "outputs": [],
   "source": [
    "# select highly variable genes for cell oracle\n",
    "sc.pp.highly_variable_genes(adata, n_top_genes=3000, subset=True, flavor= 'seurat_v3', layer = 'counts', batch_key='sample_id')"
   ]
  },
  {
   "cell_type": "markdown",
   "metadata": {},
   "source": [
    "#### 1. Calculate pseudotime\n"
   ]
  },
  {
   "cell_type": "code",
   "execution_count": null,
   "metadata": {},
   "outputs": [],
   "source": [
    "pt = Pseudotime_calculator(adata=adata, obsm_key = 'X_umap', cluster_column_name='cell_type')"
   ]
  },
  {
   "cell_type": "code",
   "execution_count": null,
   "metadata": {},
   "outputs": [],
   "source": [
    "adata.obs.cell_type.nunique()"
   ]
  },
  {
   "cell_type": "code",
   "execution_count": null,
   "metadata": {},
   "outputs": [],
   "source": [
    "lineage_dictionary = {\n",
    "    \"Oligo\" : [\"NSC\", \"OPC\", \"COP\", \"Oligodendrocyte\"],\n",
    "    \"Tumor\" : [\"OPC\", \"COP\", \"Tumor\"],\n",
    "    \"Neuron\" : [\"NSC\", \"Neuron\"],\n",
    "    \"Astrocyte\" : [\"NSC\", \"Astrocyte\"], # GPC,\n",
    "    \"Others\" : [\"Endothelial_cell\", \"Pericyte\", \"Ependymal_cell\"],\n",
    "    \"Immune\" : [\"Microglia\", \"T-cell\"],\n",
    "}"
   ]
  },
  {
   "cell_type": "code",
   "execution_count": null,
   "metadata": {},
   "outputs": [],
   "source": [
    "pt.set_lineage(lineage_dictionary=lineage_dictionary)"
   ]
  },
  {
   "cell_type": "code",
   "execution_count": null,
   "metadata": {},
   "outputs": [],
   "source": [
    "def plot(adata, embedding_key, cluster_column_name):\n",
    "    embedding = adata.obsm[embedding_key]\n",
    "    df = pd.DataFrame(embedding, columns=[\"x\", \"y\"])\n",
    "    df[\"cluster\"] = adata.obs[cluster_column_name].values\n",
    "    df[\"label\"] = adata.obs.index.values\n",
    "    fig = px.scatter(df, x=\"x\", y=\"y\", hover_name=df[\"label\"], color=\"cluster\")\n",
    "    fig.show()\n",
    "\n",
    "plot(adata=pt.adata,\n",
    "        embedding_key=pt.obsm_key,\n",
    "        cluster_column_name=pt.cluster_column_name)"
   ]
  },
  {
   "cell_type": "code",
   "execution_count": null,
   "metadata": {},
   "outputs": [],
   "source": [
    "cond = adata.obs.cell_type == 'OPC'\n",
    "ax = sc.pl.umap(adata, palette = 'lightgrey', show = False)\n",
    "sc.pl.umap(adata[cond], color = \"cell_type\", ax = ax, legend_loc = None, s=5, palette = 'k')"
   ]
  },
  {
   "cell_type": "code",
   "execution_count": null,
   "metadata": {},
   "outputs": [],
   "source": [
    "root_cells = {'Oligo': \"CCTTCAGTCCATTCAT-1\",\n",
    "    'Tumor': \"GCATTAGGTCCGGCAT-1\", #\"GCGATCGCATCCAATG-1\",\n",
    "    'Neuron': \"CTAGGTATCGACCACG-1\",\n",
    "    'Astrocyte': \"ATTCACTAGTCGTCTA-1\",\n",
    "    'Others': \"CCCTCTCGTCGCATCG-1\", # 대충\n",
    "    'Immune': \"GCTTGGGTCGAACACT-1\", # 대충\n",
    "}\n",
    "pt.set_root_cells(root_cells=root_cells)"
   ]
  },
  {
   "cell_type": "code",
   "execution_count": null,
   "metadata": {},
   "outputs": [],
   "source": [
    "pt.plot_root_cells()"
   ]
  },
  {
   "cell_type": "code",
   "execution_count": null,
   "metadata": {},
   "outputs": [],
   "source": [
    "# calculae diffusion map\n",
    "sc.tl.diffmap(pt.adata)"
   ]
  },
  {
   "cell_type": "code",
   "execution_count": null,
   "metadata": {},
   "outputs": [],
   "source": [
    "pt.get_pseudotime_per_each_lineage()\n",
    "pt.plot_pseudotime(cmap = 'rainbow')"
   ]
  },
  {
   "cell_type": "markdown",
   "metadata": {},
   "source": [
    "#### 2. Calculate GRN"
   ]
  },
  {
   "cell_type": "code",
   "execution_count": null,
   "metadata": {},
   "outputs": [],
   "source": [
    "oracle = co.Oracle()"
   ]
  },
  {
   "cell_type": "code",
   "execution_count": null,
   "metadata": {},
   "outputs": [],
   "source": [
    "base_GRN = co.data.load_mouse_scATAC_atlas_base_GRN()"
   ]
  },
  {
   "cell_type": "code",
   "execution_count": null,
   "metadata": {},
   "outputs": [],
   "source": [
    "adata.X = adata.layers['counts'].copy()\n",
    "oracle.import_anndata_as_raw_count(adata = adata, cluster_column_name='cell_type', embedding_name='X_umap')"
   ]
  },
  {
   "cell_type": "code",
   "execution_count": null,
   "metadata": {},
   "outputs": [],
   "source": [
    "oracle.import_TF_data(TF_info_matrix=base_GRN)"
   ]
  },
  {
   "cell_type": "code",
   "execution_count": null,
   "metadata": {},
   "outputs": [],
   "source": [
    "oracle.perform_PCA()"
   ]
  },
  {
   "cell_type": "code",
   "execution_count": null,
   "metadata": {},
   "outputs": [],
   "source": [
    "plt.plot(np.cumsum(oracle.pca.explained_variance_ratio_)[:100])\n",
    "n_comps = np.where(np.diff(np.diff(np.cumsum(oracle.pca.explained_variance_ratio_))>0.002))[0][0]\n",
    "plt.axvline(n_comps, c=\"k\")\n",
    "plt.show()\n",
    "print(n_comps)\n",
    "n_comps = min(n_comps, 50)\n",
    "n_cell = oracle.adata.shape[0]\n",
    "print(f\"cell number is :{n_cell}\")\n",
    "k = int(0.025*n_cell)\n",
    "print(f\"Auto-selected k is :{k}\")"
   ]
  },
  {
   "cell_type": "code",
   "execution_count": null,
   "metadata": {},
   "outputs": [],
   "source": [
    "oracle.knn_imputation(n_pca_dims=n_comps, k=k, balanced=True, b_sight=k*8,\n",
    "                      b_maxl=k*4, n_jobs=4)\n",
    "oracle.to_hdf5(os.path.join(data_path, \"obj.celloracle.oracle\"))"
   ]
  },
  {
   "cell_type": "code",
   "execution_count": null,
   "metadata": {},
   "outputs": [],
   "source": [
    "links = oracle.get_links(cluster_name_for_GRN_unit=\"cell_type\", alpha=10,\n",
    "                         verbose_level=10)\n",
    "links.to_hdf5(file_path=os.path.join(data_path, \"links.celloracle.links\"))"
   ]
  },
  {
   "cell_type": "code",
   "execution_count": null,
   "metadata": {},
   "outputs": [],
   "source": [
    "links.filter_links(p=0.001, weight=\"coef_abs\", threshold_number=10000)\n",
    "links.get_network_score()\n",
    "links.to_hdf5(file_path=os.path.join(data_path,'links.celloracle.links')) # save again"
   ]
  },
  {
   "cell_type": "markdown",
   "metadata": {},
   "source": [
    "##### (Optional) GRN"
   ]
  },
  {
   "cell_type": "code",
   "execution_count": 3,
   "metadata": {},
   "outputs": [],
   "source": [
    "# links = co.load_hdf5(os.path.join(data_path, 'links.celloracle.links'))"
   ]
  },
  {
   "cell_type": "code",
   "execution_count": null,
   "metadata": {},
   "outputs": [],
   "source": [
    "links.plot_degree_distributions(plot_model=True)"
   ]
  },
  {
   "cell_type": "code",
   "execution_count": null,
   "metadata": {},
   "outputs": [],
   "source": [
    "links.get_network_score()"
   ]
  },
  {
   "cell_type": "code",
   "execution_count": null,
   "metadata": {},
   "outputs": [],
   "source": [
    "links.plot_score_per_cluster(goi=\"Nkx6-2\")"
   ]
  },
  {
   "cell_type": "code",
   "execution_count": null,
   "metadata": {},
   "outputs": [],
   "source": [
    "cluster = \"OPC\"\n",
    "links.plot_scores_as_rank(cluster=cluster, n_gene=30, save = f'../plot/{cluster}_rank_score')"
   ]
  },
  {
   "cell_type": "code",
   "execution_count": 29,
   "metadata": {},
   "outputs": [
    {
     "data": {
      "image/png": "[encoded data removed]",
      "text/plain": [
       "<Figure size 640x480 with 1 Axes>"
      ]
     },
     "metadata": {},
     "output_type": "display_data"
    }
   ],
   "source": [
    "metrices = \"degree_centrality_all\"\n",
    "links.plot_score_comparison_2D(value=metrices,\n",
    "                               cluster1=\"COP\", cluster2=\"Oligodendrocyte\",\n",
    "                               percentile=98,\n",
    "                               save=f\"../plot/{metrices}_score_comparison\")"
   ]
  },
  {
   "cell_type": "markdown",
   "metadata": {},
   "source": [
    "#### 3. In silico perturbation (RESTART from here)\n",
    "- based on pySCENIC preliminary results"
   ]
  },
  {
   "cell_type": "code",
   "execution_count": null,
   "metadata": {},
   "outputs": [],
   "source": [
    "# # RELOAD when kernel die\n",
    "# oracle = co.load_hdf5(os.path.join(data_path, 'obj.celloracle.oracle'))\n",
    "# links = co.load_hdf5(os.path.join(data_path, 'links.celloracle.links'))\n",
    "# adata = sc.read_h5ad(os.path.join(data_path, 'annotated_with_cnvs.h5ad'))"
   ]
  },
  {
   "cell_type": "code",
   "execution_count": null,
   "metadata": {},
   "outputs": [],
   "source": [
    "oracle.get_cluster_specific_TFdict_from_Links(links_object=links)"
   ]
  },
  {
   "cell_type": "code",
   "execution_count": null,
   "metadata": {},
   "outputs": [],
   "source": [
    "oracle.fit_GRN_for_simulation(alpha=10, use_cluster_specific_TFdict=True)"
   ]
  },
  {
   "cell_type": "code",
   "execution_count": null,
   "metadata": {},
   "outputs": [],
   "source": [
    "# Up : # Klf12, Zeb1, Usf2, Pknox2\n",
    "# Down : #Mxd4, #Msx2, Nkx6-2, #Nfe2l3, #Zbtb7b"
   ]
  },
  {
   "cell_type": "code",
   "execution_count": null,
   "metadata": {},
   "outputs": [],
   "source": [
    "goi = \"Pknox2\"\n",
    "print(goi in oracle.adata.var_names)"
   ]
  },
  {
   "cell_type": "code",
   "execution_count": null,
   "metadata": {},
   "outputs": [],
   "source": [
    "sc.pl.umap(oracle.adata, color = [goi, oracle.cluster_column_name], layer = 'imputed_count', legend_loc = 'on data')"
   ]
  },
  {
   "cell_type": "code",
   "execution_count": null,
   "metadata": {},
   "outputs": [],
   "source": [
    "oracle.simulate_shift(perturb_condition={goi:0.0}, n_propagation=3)\n",
    "oracle.estimate_transition_prob(n_neighbors=200, knn_random=True, sampled_fraction=1)\n",
    "oracle.calculate_embedding_shift(sigma_corr=0.05)"
   ]
  },
  {
   "cell_type": "code",
   "execution_count": null,
   "metadata": {},
   "outputs": [],
   "source": [
    "fig, ax = plt.subplots(1, 2,  figsize=[13, 6])\n",
    "\n",
    "scale = 40\n",
    "# Show quiver plot\n",
    "oracle.plot_quiver(scale=scale, ax=ax[0])\n",
    "ax[0].set_title(f\"Simulated cell identity shift vector: {goi} KO\")\n",
    "\n",
    "# Show quiver plot that was calculated with randomized graph.\n",
    "oracle.plot_quiver_random(scale=scale, ax=ax[1])\n",
    "ax[1].set_title(f\"Randomized simulation vector\")\n",
    "\n",
    "plt.show()"
   ]
  },
  {
   "cell_type": "code",
   "execution_count": null,
   "metadata": {},
   "outputs": [],
   "source": [
    "n_grid = 40\n",
    "oracle.calculate_p_mass(smooth=0.8, n_grid=n_grid, n_neighbors=200)"
   ]
  },
  {
   "cell_type": "code",
   "execution_count": null,
   "metadata": {},
   "outputs": [],
   "source": [
    "oracle.suggest_mass_thresholds(n_suggestion=12)"
   ]
  },
  {
   "cell_type": "code",
   "execution_count": null,
   "metadata": {},
   "outputs": [],
   "source": [
    "min_mass = 17\n",
    "oracle.calculate_mass_filter(min_mass=min_mass, plot=True)"
   ]
  },
  {
   "cell_type": "code",
   "execution_count": null,
   "metadata": {},
   "outputs": [],
   "source": [
    "fig, ax = plt.subplots(1, 2,  figsize=[13, 6])\n",
    "\n",
    "scale_simulation = 25\n",
    "# Show quiver plot\n",
    "oracle.plot_simulation_flow_on_grid(scale=scale_simulation, ax=ax[0])\n",
    "ax[0].set_title(f\"Simulated cell identity shift vector: {goi} KO\")\n",
    "\n",
    "# Show quiver plot that was calculated with randomized graph.\n",
    "oracle.plot_simulation_flow_random_on_grid(scale=scale_simulation, ax=ax[1])\n",
    "ax[1].set_title(f\"Randomized simulation vector\")\n",
    "\n",
    "plt.show()"
   ]
  },
  {
   "cell_type": "code",
   "execution_count": null,
   "metadata": {},
   "outputs": [],
   "source": [
    "oracle.adata.obs['Pseudotime'] = pt.adata.obs.Pseudotime\n",
    "gradient = Gradient_calculator(oracle_object=oracle, pseudotime_key=\"Pseudotime\")\n",
    "gradient.calculate_p_mass(smooth=0.8, n_grid=n_grid, n_neighbors=200)\n",
    "gradient.calculate_mass_filter(min_mass=min_mass)\n",
    "gradient.transfer_data_into_grid(args={\"method\": \"polynomial\", \"n_poly\":3}, plot=True)"
   ]
  },
  {
   "cell_type": "code",
   "execution_count": null,
   "metadata": {},
   "outputs": [],
   "source": [
    "# Calculate graddient\n",
    "gradient.calculate_gradient()\n",
    "\n",
    "# Show results\n",
    "scale_dev = 40\n",
    "gradient.visualize_results(scale=scale_dev, s=5)"
   ]
  },
  {
   "cell_type": "code",
   "execution_count": null,
   "metadata": {},
   "outputs": [],
   "source": [
    "# Visualize results\n",
    "fig, ax = plt.subplots(figsize=[8, 6])\n",
    "gradient.plot_dev_flow_on_grid(scale=scale_dev, ax=ax)"
   ]
  },
  {
   "cell_type": "code",
   "execution_count": null,
   "metadata": {},
   "outputs": [],
   "source": [
    "# Make Oracle_development_module to compare two vector field\n",
    "dev = Oracle_development_module()\n",
    "\n",
    "# Load development flow\n",
    "dev.load_differentiation_reference_data(gradient_object=gradient)\n",
    "\n",
    "# Load simulation result\n",
    "dev.load_perturb_simulation_data(oracle_object=oracle)\n",
    "\n",
    "\n",
    "# Calculate inner produc scores\n",
    "dev.calculate_inner_product()\n",
    "dev.calculate_digitized_ip(n_bins=10)"
   ]
  },
  {
   "cell_type": "code",
   "execution_count": null,
   "metadata": {},
   "outputs": [],
   "source": [
    "vm = 0.5 # adjust\n",
    "\n",
    "fig, ax = plt.subplots(1, 2, figsize=[12, 6])\n",
    "dev.plot_inner_product_on_grid(vm=vm, s=50, ax=ax[0])\n",
    "ax[0].set_title(f\"PS\")\n",
    "\n",
    "dev.plot_inner_product_random_on_grid(vm=vm, s=50, ax=ax[1])\n",
    "ax[1].set_title(f\"PS calculated with Randomized simulation vector\")\n",
    "plt.show()"
   ]
  },
  {
   "cell_type": "code",
   "execution_count": null,
   "metadata": {},
   "outputs": [],
   "source": [
    "# Show perturbation scores with perturbation simulation vector field\n",
    "fig, ax = plt.subplots(figsize=[8, 6])\n",
    "plt.title(f'{goi} Perturbation Simulation')\n",
    "dev.plot_inner_product_on_grid(vm=vm, s=50, ax=ax)\n",
    "dev.plot_simulation_flow_on_grid(scale=scale_simulation, show_background=False, ax=ax)"
   ]
  },
  {
   "cell_type": "markdown",
   "metadata": {},
   "source": [
    "#### 4. In silico perturbation in tumors"
   ]
  },
  {
   "cell_type": "code",
   "execution_count": null,
   "metadata": {},
   "outputs": [],
   "source": [
    "cell_idx = np.where(oracle.adata.obs[oracle.cluster_column_name].isin(lineage_dictionary[\"Tumor\"]))[0]\n"
   ]
  },
  {
   "cell_type": "code",
   "execution_count": null,
   "metadata": {},
   "outputs": [],
   "source": [
    "dev = Oracle_development_module()\n",
    "\n",
    "# Load development flow\n",
    "dev.load_differentiation_reference_data(gradient_object=gradient)\n",
    "\n",
    "# Load simulation result\n",
    "dev.load_perturb_simulation_data(oracle_object=oracle,\n",
    "                                 cell_idx_use=cell_idx, # Enter cell id list\n",
    "                                 name=\"Idh1 mutant glioma\" # Name of this cell group. You can enter any name.\n",
    "                                 )\n",
    "\n",
    "# Calculation\n",
    "dev.calculate_inner_product()\n",
    "dev.calculate_digitized_ip(n_bins=10)"
   ]
  },
  {
   "cell_type": "code",
   "execution_count": null,
   "metadata": {},
   "outputs": [],
   "source": [
    "dev.visualize_development_module_layout_0(s=5,\n",
    "                                          scale_for_simulation=scale_simulation,\n",
    "                                          s_grid=50,\n",
    "                                          scale_for_pseudotime=scale_dev,\n",
    "                                          vm=vm)\n"
   ]
  },
  {
   "cell_type": "code",
   "execution_count": null,
   "metadata": {},
   "outputs": [],
   "source": [
    "# Compare\n",
    "sc.pl.umap(adata, color = ['cell_type'], legend_loc = 'on data', frameon= False, title = \"Cellular Landscape of Idh1-mutant glioma\")"
   ]
  },
  {
   "cell_type": "code",
   "execution_count": null,
   "metadata": {},
   "outputs": [],
   "source": [
    "oracle.to_hdf5(file_path=os.path.join(data_path, 'fin_object.celloracle.oracle'))"
   ]
  },
  {
   "cell_type": "code",
   "execution_count": null,
   "metadata": {},
   "outputs": [],
   "source": []
  }
 ],
 "metadata": {
  "kernelspec": {
   "display_name": "Python 3",
   "language": "python",
   "name": "python3"
  },
  "language_info": {
   "codemirror_mode": {
    "name": "ipython",
    "version": 3
   },
   "file_extension": ".py",
   "mimetype": "text/x-python",
   "name": "python",
   "nbconvert_exporter": "python",
   "pygments_lexer": "ipython3",
   "version": "3.10.11"
  }
 },
 "nbformat": 4,
 "nbformat_minor": 2
}
