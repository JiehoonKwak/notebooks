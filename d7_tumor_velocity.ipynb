{
 "cells": [
  {
   "cell_type": "code",
   "execution_count": 1,
   "metadata": {},
   "outputs": [],
   "source": [
    "import os\n",
    "import scvelo as scv\n",
    "\n",
    "import scanpy as sc\n",
    "import loompy as lp\n",
    "import numpy as np\n",
    "import pandas as pd\n",
    "import matplotlib.pyplot as plt\n",
    "import seaborn as sns\n",
    "\n",
    "import warnings\n",
    "warnings.simplefilter('ignore')\n",
    "# warnings.simplefilter('ignore', DeprecationWarning)\n",
    "# warnings.simplefilter('ignore', FutureWarning)\n",
    "# warnings.simplefilter('ignore', UserWarning)\n",
    "# warnings.simplefilter('ignore', RuntimeWarning)\n",
    "# warnings.simplefilter('ignore', category=pd.errors.PerformanceWarning)\n",
    "\n",
    "%matplotlib inline\n",
    "\n",
    "scv.settings.set_figure_params(\"scvelo\")"
   ]
  },
  {
   "cell_type": "code",
   "execution_count": 2,
   "metadata": {},
   "outputs": [],
   "source": [
    "data_path = '/Users/jiehoonk/DevHub/mnt/dataset/lgg/output'\n",
    "loom_path = '/Users/jiehoonk/DevHub/mnt/dataset/lgg/velocyto'"
   ]
  },
  {
   "cell_type": "code",
   "execution_count": null,
   "metadata": {},
   "outputs": [],
   "source": [
    "d1 = sc.read_h5ad(os.path.join(data_path, ))"
   ]
  },
  {
   "cell_type": "code",
   "execution_count": null,
   "metadata": {},
   "outputs": [],
   "source": [
    "adata = sc.read_h5ad(os.path.join(data_path, 'annotated_with_cnvs.h5ad'))\n",
    "adata.var_names_make_unique()\n",
    "adata.obs_names_make_unique()\n",
    "adata.shape"
   ]
  }
 ],
 "metadata": {
  "kernelspec": {
   "display_name": "Python 3",
   "language": "python",
   "name": "python3"
  },
  "language_info": {
   "codemirror_mode": {
    "name": "ipython",
    "version": 3
   },
   "file_extension": ".py",
   "mimetype": "text/x-python",
   "name": "python",
   "nbconvert_exporter": "python",
   "pygments_lexer": "ipython3",
   "version": "3.10.14"
  }
 },
 "nbformat": 4,
 "nbformat_minor": 2
}
